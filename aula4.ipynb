{
 "cells": [
  {
   "cell_type": "markdown",
   "metadata": {},
   "source": [
    "# Imersão dados"
   ]
  },
  {
   "cell_type": "markdown",
   "metadata": {},
   "source": [
    "### Cruzando bases de dados"
   ]
  },
  {
   "cell_type": "code",
   "execution_count": null,
   "metadata": {},
   "outputs": [],
   "source": [
    "import seaborn as sns\n",
    "import matplotlib.pyplot as plt\n",
    "import pandas as pd"
   ]
  },
  {
   "cell_type": "code",
   "execution_count": null,
   "metadata": {},
   "outputs": [],
   "source": [
    "dados = pd.read_csv(\"https://gist.githubusercontent.com/tgcsantos/3bdb29eba6ce391e90df2b72205ba891/raw/22fa920e80c9fa209a9fccc8b52d74cc95d1599b/dados_imoveis.csv\")\n",
    "dados[[\"moeda\", \"Valor_anuncio\", \"Tipo_anuncio\"]] = dados[\"Valor\"].str.split(expand=True)\n",
    "\n",
    "dados_vendas = dados[dados[\"Tipo_anuncio\"].isnull()]\n",
    "dados_vendas[\"Valor_anuncio_float\"] = dados_vendas[\"Valor_anuncio\"].str.replace(\".\", \"\").astype(float)\n",
    "dados_vendas[\"Valor_m2\"] = dados_vendas[\"Valor_anuncio_float\"] / dados_vendas[\"Metragem\"]\n",
    "\n",
    "dados_bairro = dados_vendas.groupby(\"Bairro\").sum()\n",
    "dados_bairro[\"Valor_m2_bairro\"] = dados_bairro[\"Valor_anuncio_float\"]/dados_bairro[\"Metragem\"]\n",
    "\n",
    "top_bairros = dados_vendas[\"Bairro\"].value_counts()[:10].index"
   ]
  },
  {
   "cell_type": "markdown",
   "metadata": {},
   "source": [
    "lendo a base de dados com o encoding ISO-8859-1 (pontuação), sep (separador), thousands(milhar), decimal(, do brasil)\n",
    "basicamente dropa todas as colunas que forem vazias com o axis=1"
   ]
  },
  {
   "cell_type": "code",
   "execution_count": null,
   "metadata": {},
   "outputs": [],
   "source": [
    "ibge_sp = pd.read_csv(\"https://gist.githubusercontent.com/tgcsantos/85f8c7b0a2edbc3e27fcad619b37d886/raw/a4954781e6bca9cb804062a3eea0b3b84679daf4/Basico_SP1.csv\", encoding='ISO-8859-1', sep=';', thousands='.', decimal=',')\n",
    "ibge_sp.dropna(how='all', axis=1, inplace=True)\n",
    "ibge_sp.head()\n"
   ]
  },
  {
   "cell_type": "code",
   "execution_count": null,
   "metadata": {},
   "outputs": [],
   "source": [
    "ibge_sp.info()"
   ]
  },
  {
   "cell_type": "code",
   "execution_count": null,
   "metadata": {},
   "outputs": [],
   "source": [
    "# enderecos = pd.read_csv(\".\\dados\\enderecos.csv\")\n",
    "enderecos.head()"
   ]
  },
  {
   "cell_type": "code",
   "execution_count": null,
   "metadata": {},
   "outputs": [],
   "source": [
    "enderecos_sp = enderecos.query(\"sigla_uf == 'SP'\")\n",
    "enderecos_sp.head()"
   ]
  },
  {
   "cell_type": "code",
   "execution_count": null,
   "metadata": {},
   "outputs": [],
   "source": [
    "enderecos_sp[\"rua\"] = enderecos_sp[\"tipo_logr\"] + \" \" + enderecos_sp[\"logr_nome\"]\n",
    "enderecos_sp[\"rua\"] = enderecos_sp[\"rua\"].str.lower().str.strip() #strip tira espaços\n",
    "enderecos_sp.head()"
   ]
  },
  {
   "cell_type": "markdown",
   "metadata": {},
   "source": [
    "Regex -> extrai tudo que for letra mais um espaço (remover numero e deixar apenas o nome das ruas)"
   ]
  },
  {
   "cell_type": "code",
   "execution_count": null,
   "metadata": {},
   "outputs": [],
   "source": [
    "dados_vendas[\"apenas_ruas\"] = dados_vendas[\"Rua\"].str.extract(r'(^[\\w ]+)')\n",
    "dados_vendas[\"apenas_ruas\"] = dados_vendas[\"apenas_ruas\"].str.lower().str.strip()\n",
    "dados_vendas.sample(5)"
   ]
  },
  {
   "cell_type": "markdown",
   "metadata": {},
   "source": [
    "Left Join dados_vendas com o enderecos_sp e removendo informações duplicadas relacionadas ao dados_vendas"
   ]
  },
  {
   "cell_type": "code",
   "execution_count": null,
   "metadata": {},
   "outputs": [],
   "source": [
    "dados_geo = pd.merge(left=dados_vendas, right=enderecos_sp[[\"rua\", \"cep\", \"latitude\", \"longitude\"]], how=\"left\", left_on=\"apenas_ruas\", right_on=\"rua\").drop_duplicates(subset=dados_vendas.columns).query(\"cep > 0\")\n",
    "dados_geo.head()"
   ]
  },
  {
   "cell_type": "markdown",
   "metadata": {},
   "source": [
    "```bash\n",
    "pip install shapely\n",
    "```"
   ]
  },
  {
   "cell_type": "code",
   "execution_count": null,
   "metadata": {},
   "outputs": [],
   "source": [
    "from shapely.geometry import Point\n",
    "latitude = -23.56\n",
    "longitude = -46.59\n",
    "Point(longitude, latitude)"
   ]
  },
  {
   "cell_type": "code",
   "execution_count": null,
   "metadata": {},
   "outputs": [],
   "source": [
    "from shapely.geometry import Polygon\n",
    "Polygon([[0, 0], [1, 0], [1, 1], [0, 1], [0, 0]])"
   ]
  },
  {
   "cell_type": "code",
   "execution_count": null,
   "metadata": {},
   "outputs": [],
   "source": [
    "Polygon([[0, 0], [1, 0], [1, 1], [0, 1], [0, 0]]).contains(Point(0.1,0.9))"
   ]
  },
  {
   "cell_type": "markdown",
   "metadata": {},
   "source": [
    "como instalar o geopandas [resposta do Hicham Zouarhi](https://gis.stackexchange.com/questions/330840/error-installing-geopandas)\n",
    "\n",
    "```bash\n",
    "pip install ./install-geopandas/GDAL-3.4.3-cp310-cp310-win_amd64.whl\n",
    "pip install ./install-geopandas/Fiona-1.8.21-cp310-cp310-win_amd64.whl\n",
    "pip install geopandas\n",
    "```\n",
    "instale <strong>gdal</strong> levando em conta a versão do seu python e a arquitetura do seu windows (32 ou 64bits) <br/>\n",
    "instale <strong>Fiona</strong> levando em conta a versão do seu python e a arquitetura do seu windows (32 ou 64bits)<br/>\n",
    "instale <strong>geopandas</strong>"
   ]
  },
  {
   "cell_type": "code",
   "execution_count": null,
   "metadata": {},
   "outputs": [],
   "source": [
    "import geopandas as gpd\n",
    "# setor_censo = gpd.read_file('./dados/35SEE250GC_SIR.shp')\n",
    "# setor_censo.head()"
   ]
  },
  {
   "cell_type": "code",
   "execution_count": null,
   "metadata": {},
   "outputs": [],
   "source": [
    "setor_censo_sp = setor_censo[setor_censo.NM_MUNICIP == \"SÃO PAULO\"]\n",
    "setor_censo_sp[setor_censo_sp.contains(Point(-46.63, -23.58))] #Base alura"
   ]
  },
  {
   "cell_type": "code",
   "execution_count": null,
   "metadata": {},
   "outputs": [],
   "source": [
    "dados_geo[\"Point\"] = \"\"\n",
    "for i in dados_geo.index:\n",
    "    dados_geo[\"Point\"][i] = Point(dados_geo[\"longitude\"][i], dados_geo[\"latitude\"][i])\n",
    "\n",
    "dados_geo['setor_censo'] = dados_geo[\"Point\"][:10].map(\n",
    "    lambda x: setor_censo_sp.loc[setor_censo_sp.contains(x), 'CD_GEOCODI'].values\n",
    ").str[0]\n",
    "# dados_geo"
   ]
  },
  {
   "cell_type": "code",
   "execution_count": null,
   "metadata": {},
   "outputs": [],
   "source": [
    "# dados_geo = pd.read_csv(\"./dados/dados_geo.csv\")\n",
    "dados_geo.head()"
   ]
  },
  {
   "cell_type": "code",
   "execution_count": null,
   "metadata": {},
   "outputs": [],
   "source": [
    "dados_vendas_censo = pd.merge(\n",
    "    left=dados_geo,\n",
    "    right=ibge_sp,\n",
    "    how=\"left\",\n",
    "    left_on=\"setor_censo\",\n",
    "    right_on=\"Cod_setor\"\n",
    ")\n",
    "dados_vendas_censo.head()"
   ]
  },
  {
   "cell_type": "code",
   "execution_count": null,
   "metadata": {},
   "outputs": [],
   "source": [
    "dados_vendas_censo.info()"
   ]
  },
  {
   "cell_type": "code",
   "execution_count": null,
   "metadata": {},
   "outputs": [],
   "source": [
    "plt.figure(figsize=(15,10))\n",
    "sns.scatterplot(data = dados_vendas_censo, x=\"V005\", y=\"Valor_m2\")"
   ]
  }
 ],
 "metadata": {
  "interpreter": {
   "hash": "d044c6e0ce06759120adefce77398d00e1228e64d92f3f185fbd024a7701b8e0"
  },
  "kernelspec": {
   "display_name": "Python 3.10.4 64-bit",
   "language": "python",
   "name": "python3"
  },
  "language_info": {
   "codemirror_mode": {
    "name": "ipython",
    "version": 3
   },
   "file_extension": ".py",
   "mimetype": "text/x-python",
   "name": "python",
   "nbconvert_exporter": "python",
   "pygments_lexer": "ipython3",
   "version": "3.10.4"
  },
  "orig_nbformat": 4
 },
 "nbformat": 4,
 "nbformat_minor": 2
}
